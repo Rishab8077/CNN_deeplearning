{
 "cells": [
  {
   "cell_type": "markdown",
   "id": "8f01045f",
   "metadata": {},
   "source": [
    "## Fashion-mnist"
   ]
  },
  {
   "cell_type": "code",
   "execution_count": 1,
   "id": "4da9ff26",
   "metadata": {},
   "outputs": [],
   "source": [
    "import tensorflow as tf\n",
    "from tensorflow import keras\n",
    "import numpy as np"
   ]
  },
  {
   "cell_type": "code",
   "execution_count": 2,
   "id": "aab5bade",
   "metadata": {},
   "outputs": [],
   "source": [
    "fashion_mnist=keras.datasets.fashion_mnist"
   ]
  },
  {
   "cell_type": "code",
   "execution_count": 3,
   "id": "ccc17f79",
   "metadata": {},
   "outputs": [],
   "source": [
    "(train_images,train_labels),(test_images,test_labels)=fashion_mnist.load_data()\n",
    "#train_images and train_labels are independent and dependent feature"
   ]
  },
  {
   "cell_type": "code",
   "execution_count": 4,
   "id": "3d52b2a3",
   "metadata": {},
   "outputs": [],
   "source": [
    "#scaling\n",
    "train_images=train_images/255.0\n",
    "test_images=test_images/255.0"
   ]
  },
  {
   "cell_type": "code",
   "execution_count": 7,
   "id": "ffbb38fd",
   "metadata": {},
   "outputs": [
    {
     "data": {
      "text/plain": [
       "(28, 28)"
      ]
     },
     "execution_count": 7,
     "metadata": {},
     "output_type": "execute_result"
    }
   ],
   "source": [
    "train_images[0].shape"
   ]
  },
  {
   "cell_type": "code",
   "execution_count": 8,
   "id": "e851b70d",
   "metadata": {},
   "outputs": [
    {
     "data": {
      "text/plain": [
       "60000"
      ]
     },
     "execution_count": 8,
     "metadata": {},
     "output_type": "execute_result"
    }
   ],
   "source": [
    "len(train_images)"
   ]
  },
  {
   "cell_type": "code",
   "execution_count": 9,
   "id": "aa35e634",
   "metadata": {},
   "outputs": [],
   "source": [
    "train_images=train_images.reshape(len(train_images),28,28,1)\n",
    "test_images=test_images.reshape(len(test_images),28,28,1)"
   ]
  },
  {
   "cell_type": "code",
   "execution_count": 24,
   "id": "9ef75a5f",
   "metadata": {},
   "outputs": [],
   "source": [
    "def build_model(hp):\n",
    "    model=keras.Sequential([keras.layers.Conv2D(filters=hp.Int('conv_1_filter',min_value=32,max_value=128,step=16),\n",
    "                            kernel_size=hp.Choice('conv_1_kernel',values=[3,5]),\n",
    "                           activation='relu',input_shape=(28,28,1)\n",
    "                                               ),\n",
    "                            keras.layers.Conv2D(\n",
    "                                filters=hp.Int('conv_2_filter', min_value=32, max_value=64, step=16),\n",
    "                                kernel_size=hp.Choice('conv_2_kernel', values = [3,5]),\n",
    "                                activation='relu'\n",
    "                            ),\n",
    "                            keras.layers.Flatten(),\n",
    "                            keras.layers.Dense(units=hp.Int('dense_1_units', min_value=32, max_value=128, step=16),\n",
    "                                               activation='relu'\n",
    "                                              ),\n",
    "                            keras.layers.Dense(10, activation='softmax')])\n",
    "    \n",
    "    model.compile(optimizer=keras.optimizers.Adam(hp.Choice('learning_rate', values=[1e-2, 1e-3])),\n",
    "              loss='sparse_categorical_crossentropy',\n",
    "              metrics=['accuracy'])\n",
    "    \n",
    "    return model"
   ]
  },
  {
   "cell_type": "code",
   "execution_count": 25,
   "id": "c40fa9e5",
   "metadata": {},
   "outputs": [],
   "source": [
    "import keras_tuner\n",
    "from kerastuner import RandomSearch\n",
    "from kerastuner.engine.hyperparameters import HyperParameters"
   ]
  },
  {
   "cell_type": "code",
   "execution_count": 26,
   "id": "d2793fc2",
   "metadata": {},
   "outputs": [],
   "source": [
    "tuner_search=RandomSearch(build_model,\n",
    "                          objective='val_accuracy',\n",
    "                          max_trials=5,directory='output',project_name=\"Mnist Fashion\")"
   ]
  },
  {
   "cell_type": "code",
   "execution_count": 27,
   "id": "dcdda53d",
   "metadata": {},
   "outputs": [
    {
     "name": "stdout",
     "output_type": "stream",
     "text": [
      "Trial 5 Complete [00h 09m 08s]\n",
      "val_accuracy: 0.8830000162124634\n",
      "\n",
      "Best val_accuracy So Far: 0.906000018119812\n",
      "Total elapsed time: 01h 16m 37s\n",
      "INFO:tensorflow:Oracle triggered exit\n"
     ]
    }
   ],
   "source": [
    "tuner_search.search(train_images,train_labels,epochs=3,validation_split=0.1)"
   ]
  },
  {
   "cell_type": "code",
   "execution_count": 29,
   "id": "16c141f6",
   "metadata": {},
   "outputs": [
    {
     "name": "stdout",
     "output_type": "stream",
     "text": [
      "WARNING:tensorflow:Unresolved object in checkpoint: (root).optimizer.iter\n",
      "WARNING:tensorflow:Unresolved object in checkpoint: (root).optimizer.beta_1\n",
      "WARNING:tensorflow:Unresolved object in checkpoint: (root).optimizer.beta_2\n",
      "WARNING:tensorflow:Unresolved object in checkpoint: (root).optimizer.decay\n",
      "WARNING:tensorflow:Unresolved object in checkpoint: (root).optimizer.learning_rate\n",
      "WARNING:tensorflow:A checkpoint was restored (e.g. tf.train.Checkpoint.restore or tf.keras.Model.load_weights) but not all checkpointed values were used. See above for specific issues. Use expect_partial() on the load status object, e.g. tf.train.Checkpoint.restore(...).expect_partial(), to silence these warnings, or use assert_consumed() to make the check explicit. See https://www.tensorflow.org/guide/checkpoint#loading_mechanics for details.\n",
      "Model: \"sequential\"\n",
      "_________________________________________________________________\n",
      "Layer (type)                 Output Shape              Param #   \n",
      "=================================================================\n",
      "conv2d (Conv2D)              (None, 24, 24, 80)        2080      \n",
      "_________________________________________________________________\n",
      "conv2d_1 (Conv2D)            (None, 20, 20, 64)        128064    \n",
      "_________________________________________________________________\n",
      "flatten (Flatten)            (None, 25600)             0         \n",
      "_________________________________________________________________\n",
      "dense (Dense)                (None, 80)                2048080   \n",
      "_________________________________________________________________\n",
      "dense_1 (Dense)              (None, 10)                810       \n",
      "=================================================================\n",
      "Total params: 2,179,034\n",
      "Trainable params: 2,179,034\n",
      "Non-trainable params: 0\n",
      "_________________________________________________________________\n"
     ]
    }
   ],
   "source": [
    "model=tuner_search.get_best_models(num_models=1)[0]\n",
    "model.summary()"
   ]
  },
  {
   "cell_type": "code",
   "execution_count": 31,
   "id": "7786ced7",
   "metadata": {},
   "outputs": [
    {
     "name": "stdout",
     "output_type": "stream",
     "text": [
      "Epoch 4/10\n",
      "1688/1688 [==============================] - 357s 211ms/step - loss: 0.1688 - accuracy: 0.9366 - val_loss: 0.2594 - val_accuracy: 0.9087\n",
      "Epoch 5/10\n",
      "1688/1688 [==============================] - 385s 228ms/step - loss: 0.1306 - accuracy: 0.9503 - val_loss: 0.2792 - val_accuracy: 0.9112\n",
      "Epoch 6/10\n",
      "1688/1688 [==============================] - 366s 217ms/step - loss: 0.0985 - accuracy: 0.9632 - val_loss: 0.2950 - val_accuracy: 0.9110\n",
      "Epoch 7/10\n",
      "1688/1688 [==============================] - 325s 192ms/step - loss: 0.0753 - accuracy: 0.9716 - val_loss: 0.3190 - val_accuracy: 0.9135\n",
      "Epoch 8/10\n",
      "1688/1688 [==============================] - 316s 187ms/step - loss: 0.0586 - accuracy: 0.9785 - val_loss: 0.3885 - val_accuracy: 0.9117\n",
      "Epoch 9/10\n",
      "1688/1688 [==============================] - 309s 183ms/step - loss: 0.0471 - accuracy: 0.9823 - val_loss: 0.4403 - val_accuracy: 0.9090\n",
      "Epoch 10/10\n",
      "1688/1688 [==============================] - 371s 220ms/step - loss: 0.0381 - accuracy: 0.9858 - val_loss: 0.4610 - val_accuracy: 0.9103\n"
     ]
    },
    {
     "data": {
      "text/plain": [
       "<keras.callbacks.History at 0x1b0256835e0>"
      ]
     },
     "execution_count": 31,
     "metadata": {},
     "output_type": "execute_result"
    }
   ],
   "source": [
    "model.fit(train_images,train_labels,epochs=10,validation_split=0.1,initial_epoch=3)"
   ]
  },
  {
   "cell_type": "code",
   "execution_count": null,
   "id": "61818350",
   "metadata": {},
   "outputs": [],
   "source": []
  }
 ],
 "metadata": {
  "kernelspec": {
   "display_name": "Python 3",
   "language": "python",
   "name": "python3"
  },
  "language_info": {
   "codemirror_mode": {
    "name": "ipython",
    "version": 3
   },
   "file_extension": ".py",
   "mimetype": "text/x-python",
   "name": "python",
   "nbconvert_exporter": "python",
   "pygments_lexer": "ipython3",
   "version": "3.9.2"
  }
 },
 "nbformat": 4,
 "nbformat_minor": 5
}
